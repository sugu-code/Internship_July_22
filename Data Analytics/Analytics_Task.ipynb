{
  "nbformat": 4,
  "nbformat_minor": 0,
  "metadata": {
    "colab": {
      "name": "Analytics_Task.ipynb",
      "provenance": []
    },
    "kernelspec": {
      "name": "python3",
      "display_name": "Python 3"
    },
    "language_info": {
      "name": "python"
    }
  },
  "cells": [
    {
      "cell_type": "markdown",
      "source": [
        "**Question: Randomly generate a matrix of shape (1Million, 2) and perform below mentioned operations:**\n",
        "\n",
        "**a. Find the distances between each 2-Dimensional data point from the centroid (i.e. mean) of the given dataset. Append the newly calculated distances as new column with the given dataset.**\n",
        "\n",
        "**b. Given any data point, generate 3 closest neighbors from it.**"
      ],
      "metadata": {
        "id": "pWD1Scas9T_9"
      }
    },
    {
      "cell_type": "markdown",
      "source": [
        "**Approach:**\n",
        "\n",
        "Step 1 - Randomly generate a matrix of shape 1million * 2\n",
        "\n",
        "Step 2 - Find the centroid of the data\n",
        "\n",
        "Step 3 - Compute the distance between 2D datapoints and centroid\n",
        "\n",
        "Step 4 - Add the distance as a new column to our matrix"
      ],
      "metadata": {
        "id": "GmGp8-HD9_4W"
      }
    },
    {
      "cell_type": "code",
      "execution_count": 13,
      "metadata": {
        "colab": {
          "base_uri": "https://localhost:8080/"
        },
        "id": "r8VuRvud1_Hx",
        "outputId": "63c5315f-a470-4ecb-9286-529d44f69aae"
      },
      "outputs": [
        {
          "output_type": "stream",
          "name": "stdout",
          "text": [
            "[[51828 86778]\n",
            " [62422 84026]\n",
            " [65112 23996]\n",
            " ...\n",
            " [83307 10812]\n",
            " [79834 39520]\n",
            " [83583  5912]]\n"
          ]
        }
      ],
      "source": [
        "#Step 1 - Randomly generate a matrix of shape 1million * 2\n",
        "import numpy as np  \n",
        "import random\n",
        "arr = np.random.randint(100000,size=(1000000,2))\n",
        "print(arr)"
      ]
    },
    {
      "cell_type": "code",
      "source": [
        "#Step 2 - Find the centroid of the data\n",
        "centroid = np.mean (arr, axis=0)\n",
        "print(centroid)"
      ],
      "metadata": {
        "id": "0Fw4Xhz-_d_r",
        "colab": {
          "base_uri": "https://localhost:8080/"
        },
        "outputId": "cc012e56-8d98-4f54-e3b9-d229a7207b97"
      },
      "execution_count": 14,
      "outputs": [
        {
          "output_type": "stream",
          "name": "stdout",
          "text": [
            "[49998.319553 49999.736782]\n"
          ]
        }
      ]
    },
    {
      "cell_type": "code",
      "source": [
        "#Step 3 - Compute the distance between 2D datapoints and centroid\n",
        "dist=np.sqrt(np.sum((arr-centroid)**2,axis=1))\n",
        "print(dist)"
      ],
      "metadata": {
        "colab": {
          "base_uri": "https://localhost:8080/"
        },
        "id": "OZMkiuS5AnVm",
        "outputId": "1adca341-49ba-45d3-d71a-83756f4f2aef"
      },
      "execution_count": 24,
      "outputs": [
        {
          "output_type": "stream",
          "name": "stdout",
          "text": [
            "[36823.74744469 36223.39609189 30076.8625904  ... 51430.99169971\n",
            " 31622.6613484  55422.55222638]\n"
          ]
        }
      ]
    },
    {
      "cell_type": "code",
      "source": [
        "#Step 4 - Add the distance as a new column to our matrix\n",
        "np.hstack([arr, dist.reshape(-1,1)])\n"
      ],
      "metadata": {
        "colab": {
          "base_uri": "https://localhost:8080/"
        },
        "id": "pR5YIa7dAR6A",
        "outputId": "17f4b8e6-d9cd-48b1-c8b0-1f2437beaf6b"
      },
      "execution_count": 25,
      "outputs": [
        {
          "output_type": "execute_result",
          "data": {
            "text/plain": [
              "array([[51828.        , 86778.        , 36823.74744469],\n",
              "       [62422.        , 84026.        , 36223.39609189],\n",
              "       [65112.        , 23996.        , 30076.8625904 ],\n",
              "       ...,\n",
              "       [83307.        , 10812.        , 51430.99169971],\n",
              "       [79834.        , 39520.        , 31622.6613484 ],\n",
              "       [83583.        ,  5912.        , 55422.55222638]])"
            ]
          },
          "metadata": {},
          "execution_count": 25
        }
      ]
    },
    {
      "cell_type": "code",
      "source": [
        "#Generate random data point\n",
        "test=np.random.randint(100000,size=(1,2))\n",
        "print(test)"
      ],
      "metadata": {
        "colab": {
          "base_uri": "https://localhost:8080/"
        },
        "id": "w2waJt6oFJkF",
        "outputId": "146167a6-99eb-47c4-94b1-3d904e7de4e9"
      },
      "execution_count": 27,
      "outputs": [
        {
          "output_type": "stream",
          "name": "stdout",
          "text": [
            "[[74578 51348]]\n"
          ]
        }
      ]
    },
    {
      "cell_type": "code",
      "source": [
        "#calculate distance between test data and all points in matrix\n",
        "distances=np.sqrt(np.sum((test - arr)**2,axis=1))\n",
        "n=3\n",
        "min_indices=np.argpartition(distances,n-1)[:n]\n",
        "print(min_indices)"
      ],
      "metadata": {
        "colab": {
          "base_uri": "https://localhost:8080/"
        },
        "id": "VJ9iyKJjIq5G",
        "outputId": "23b5984d-6028-4fd6-d3df-85b18e791736"
      },
      "execution_count": 28,
      "outputs": [
        {
          "output_type": "stream",
          "name": "stdout",
          "text": [
            "[964524 353788 654126]\n"
          ]
        }
      ]
    },
    {
      "cell_type": "code",
      "source": [
        "#minimum distances\n",
        "distances[min_indices]"
      ],
      "metadata": {
        "colab": {
          "base_uri": "https://localhost:8080/"
        },
        "id": "M5PWrzcJJ16W",
        "outputId": "0f593b07-03cb-4eea-e8ba-5c4f12df09b2"
      },
      "execution_count": 29,
      "outputs": [
        {
          "output_type": "execute_result",
          "data": {
            "text/plain": [
              "array([52.69724851, 58.13776741, 88.23264702])"
            ]
          },
          "metadata": {},
          "execution_count": 29
        }
      ]
    },
    {
      "cell_type": "code",
      "source": [
        "#points at minimm distance\n",
        "arr[min_indices]"
      ],
      "metadata": {
        "colab": {
          "base_uri": "https://localhost:8080/"
        },
        "id": "h75_45YsKW76",
        "outputId": "c060ba6d-e311-4ec4-ceb4-0e0927e6d4d2"
      },
      "execution_count": 30,
      "outputs": [
        {
          "output_type": "execute_result",
          "data": {
            "text/plain": [
              "array([[74607, 51392],\n",
              "       [74526, 51374],\n",
              "       [74662, 51375]])"
            ]
          },
          "metadata": {},
          "execution_count": 30
        }
      ]
    }
  ]
}